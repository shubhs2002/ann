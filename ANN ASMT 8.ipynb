{
 "cells": [
  {
   "cell_type": "markdown",
   "id": "034f4af0",
   "metadata": {},
   "source": [
    "Write a python program in python program for creating a Back Propagation Feed-forward neural \n",
    "network"
   ]
  },
  {
   "cell_type": "code",
   "execution_count": 2,
   "id": "a587fada",
   "metadata": {},
   "outputs": [
    {
     "name": "stdout",
     "output_type": "stream",
     "text": [
      "Output:\n",
      "[[0.00585773]\n",
      " [0.02324597]\n",
      " [0.02319272]\n",
      " [0.95756207]]\n"
     ]
    }
   ],
   "source": [
    "import numpy as np\n",
    "\n",
    "# Define the sigmoid function\n",
    "def sigmoid(x):\n",
    "    return 1 / (1 + np.exp(-x))\n",
    "\n",
    "# Define the derivative of the sigmoid function\n",
    "def sigmoid_derivative(x):\n",
    "    return x * (1 - x)\n",
    "\n",
    "# Define the number of inputs, hidden units, and outputs\n",
    "n_inputs = 2\n",
    "n_hidden = 3\n",
    "n_outputs = 1\n",
    "\n",
    "# Initialize the weights and biases\n",
    "weights1 = np.random.rand(n_inputs, n_hidden)\n",
    "weights2 = np.random.rand(n_hidden, n_outputs)\n",
    "bias1 = np.random.rand(1, n_hidden)\n",
    "bias2 = np.random.rand(1, n_outputs)\n",
    "\n",
    "# Define the training data\n",
    "X = np.array([[0, 0], [0, 1], [1, 0], [1, 1]])\n",
    "y = np.array([[0], [0], [0], [1]])\n",
    "\n",
    "# Define the learning rate\n",
    "learning_rate = 0.1\n",
    "\n",
    "# Train the network\n",
    "for i in range(1000):\n",
    "    # Forward pass\n",
    "    hidden_layer = sigmoid(np.dot(X, weights1) + bias1)\n",
    "    output_layer = sigmoid(np.dot(hidden_layer, weights2) + bias2)\n",
    "\n",
    "    # Backward pass\n",
    "    output_error = y - output_layer\n",
    "    hidden_error = output_error.dot(weights2.T) * sigmoid_derivative(hidden_layer)\n",
    "\n",
    "    # Update the weights and biases\n",
    "    weights2 += learning_rate * hidden_layer.T.dot(output_error)\n",
    "    bias2 += learning_rate * np.sum(output_error, axis=0, keepdims=True)\n",
    "    weights1 += learning_rate * X.T.dot(hidden_error)\n",
    "    bias1 += learning_rate * np.sum(hidden_error, axis=0, keepdims=True)\n",
    "\n",
    "# Test the network\n",
    "hidden_layer = sigmoid(np.dot(X, weights1) + bias1)\n",
    "output_layer = sigmoid(np.dot(hidden_layer, weights2) + bias2)\n",
    "print(\"Output:\")\n",
    "print(output_layer)"
   ]
  },
  {
   "cell_type": "code",
   "execution_count": null,
   "id": "6b9878c3",
   "metadata": {},
   "outputs": [],
   "source": []
  }
 ],
 "metadata": {
  "kernelspec": {
   "display_name": "Python 3 (ipykernel)",
   "language": "python",
   "name": "python3"
  },
  "language_info": {
   "codemirror_mode": {
    "name": "ipython",
    "version": 3
   },
   "file_extension": ".py",
   "mimetype": "text/x-python",
   "name": "python",
   "nbconvert_exporter": "python",
   "pygments_lexer": "ipython3",
   "version": "3.9.7"
  }
 },
 "nbformat": 4,
 "nbformat_minor": 5
}
