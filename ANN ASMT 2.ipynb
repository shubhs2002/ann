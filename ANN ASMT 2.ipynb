{
 "cells": [
  {
   "cell_type": "markdown",
   "id": "d829736c",
   "metadata": {},
   "source": [
    "Generate ANDNOT function using McCulloch-Pitts neural net by a python program.\n"
   ]
  },
  {
   "cell_type": "code",
   "execution_count": 2,
   "id": "29557611",
   "metadata": {},
   "outputs": [
    {
     "name": "stdout",
     "output_type": "stream",
     "text": [
      "Enter the weight of first neuron: 1\n",
      "Enter the weight of second neuron: -1\n",
      "[0, 0, 1, 1]\n",
      "[0, 1, 0, 1]\n",
      "[0, 0, 1, 0]\n"
     ]
    }
   ],
   "source": [
    "#ANDNOT Gate using McCulloch-Pitts neural net\n",
    "def and_not_gate(x1,x2,w1,w2):\n",
    "    y=[]\n",
    "    theta=1\n",
    "    for i in range(len(x1)):\n",
    "        fun=w1*x1[i]+w2*x2[i]\n",
    "        if fun>=theta:\n",
    "            y.append(1)\n",
    "        else:\n",
    "            y.append(0)\n",
    "    print(x1)\n",
    "    print(x2)\n",
    "    print(y)\n",
    "x1=[0,0,1,1]\n",
    "x2=[0,1,0,1]\n",
    "w1=int(input(\"Enter the weight of first neuron: \"))\n",
    "w2=int(input(\"Enter the weight of second neuron: \"))\n",
    "and_not_gate(x1,x2,w1,w2) "
   ]
  },
  {
   "cell_type": "code",
   "execution_count": 3,
   "id": "ac7dc597",
   "metadata": {},
   "outputs": [
    {
     "name": "stdout",
     "output_type": "stream",
     "text": [
      "Enter the weight of first neuron: 1\n",
      "Enter the weight of second neuron: 1\n",
      "[0, 0, 1, 1]\n",
      "[0, 1, 0, 1]\n",
      "[0, 1, 1, 1]\n"
     ]
    }
   ],
   "source": [
    "#ORNOT Gate using McCulloch-Pitts neural net\n",
    "def or_gate(x1,x2,w1,w2):\n",
    "    y=[]\n",
    "    theta=1\n",
    "    for i in range(len(x1)):\n",
    "        fun=w1*x1[i]+w2*x2[i]\n",
    "        if fun>=theta:\n",
    "            y.append(1)\n",
    "        else:\n",
    "            y.append(0)\n",
    "    print(x1)\n",
    "    print(x2)\n",
    "    print(y)\n",
    "x1=[0,0,1,1]\n",
    "x2=[0,1,0,1]\n",
    "w1=int(input(\"Enter the weight of first neuron: \"))\n",
    "w2=int(input(\"Enter the weight of second neuron: \"))\n",
    "or_gate(x1,x2,w1,w2)\n",
    "    "
   ]
  },
  {
   "cell_type": "code",
   "execution_count": 4,
   "id": "caca25c1",
   "metadata": {},
   "outputs": [
    {
     "name": "stdout",
     "output_type": "stream",
     "text": [
      "Enter the weight of first neuron: 1\n",
      "Enter the weight of second neuron: 1\n",
      "[0, 0, 1, 1]\n",
      "[0, 1, 0, 1]\n",
      "[0, 0, 0, 1]\n"
     ]
    }
   ],
   "source": [
    "#AND Gate using McCulloch-Pitts neural net\n",
    "def and_gate(x1,x2,w1,w2):\n",
    "    y=[]\n",
    "    theta=1\n",
    "    for i in range(len(x1)):\n",
    "        fun=w1*x1[i]+w2*x2[i]\n",
    "        if fun>theta:\n",
    "            y.append(1)\n",
    "        else:\n",
    "            y.append(0)\n",
    "    print(x1)\n",
    "    print(x2)\n",
    "    print(y)\n",
    "x1=[0,0,1,1]\n",
    "x2=[0,1,0,1]\n",
    "w1=int(input(\"Enter the weight of first neuron: \"))\n",
    "w2=int(input(\"Enter the weight of second neuron: \"))\n",
    "and_gate(x1,x2,w1,w2)\n",
    "    "
   ]
  },
  {
   "cell_type": "code",
   "execution_count": null,
   "id": "7e3a1429",
   "metadata": {},
   "outputs": [],
   "source": []
  }
 ],
 "metadata": {
  "kernelspec": {
   "display_name": "Python 3 (ipykernel)",
   "language": "python",
   "name": "python3"
  },
  "language_info": {
   "codemirror_mode": {
    "name": "ipython",
    "version": 3
   },
   "file_extension": ".py",
   "mimetype": "text/x-python",
   "name": "python",
   "nbconvert_exporter": "python",
   "pygments_lexer": "ipython3",
   "version": "3.9.7"
  }
 },
 "nbformat": 4,
 "nbformat_minor": 5
}
