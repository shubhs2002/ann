{
 "cells": [
  {
   "cell_type": "markdown",
   "id": "1db9690f",
   "metadata": {},
   "source": [
    "Implement Artificial Neural Network training process in Python by using Forward Propagation, Bacward Propagation."
   ]
  },
  {
   "cell_type": "code",
   "execution_count": 2,
   "id": "2fff0e35",
   "metadata": {},
   "outputs": [],
   "source": [
    "import numpy as np"
   ]
  },
  {
   "cell_type": "code",
   "execution_count": 3,
   "id": "e517d912",
   "metadata": {},
   "outputs": [],
   "source": [
    "def sigmoid(x):\n",
    "    return 1/(1+np.exp(-x))\n",
    "\n",
    "def sigmoid_derivative(x):\n",
    "    return x*(1-x)\n",
    "\n",
    "def forward(inputs,hidden_wts,hidden_bias,output_wts,output_bias):\n",
    "    hidden_output = sigmoid(np.dot (inputs,hidden_wts)+hidden_bias)\n",
    "    predicted_output = sigmoid(np.dot(hidden_output,output_wts)+output_bias)\n",
    "    return hidden_output,predicted_output\n",
    "\n",
    "def backward(learn,inputs,target,hidden_output,predicted_output,output_wts,output_bias,hidden_wts,hidden_bias):\n",
    "    error = target - learn\n",
    "    delta_output = error*sigmoid_derivative(predicted_output)\n",
    "    \n",
    "    error_hidden = delta_output.dot(output_wts.T)\n",
    "    delta_hidden = error*sigmoid_derivative(hidden_output)\n",
    "    \n",
    "    #Update weights and biases\n",
    "    output_wts += hidden_output.T.dot(delta_output)*learn\n",
    "    output_bias += np.sum(delta_output,axis=0)*learn\n",
    "    hidden_wts += inputs.T.dot(delta_hidden)*learn\n",
    "    hidden_bias += np.sum(delta_hidden,axis=0)*learn\n",
    "    \n",
    "    return output_wts,output_bias,hidden_wts,hidden_bias"
   ]
  },
  {
   "cell_type": "code",
   "execution_count": 4,
   "id": "4f79d049",
   "metadata": {},
   "outputs": [],
   "source": [
    "inputs = np.array([[0,0],[0,1],[1,0],[1,1]])\n",
    "target = np.array([[0],[0],[1],[0]]) # ANDNOT Gate\n",
    "\n",
    "def train(inputs,target):\n",
    "    input_neurons,hidden_neurons,output_neurons = 2,2,1\n",
    "    hidden_wts = np.random.uniform(size=(input_neurons,hidden_neurons))\n",
    "    hidden_bias = np.random.uniform(size=(1,hidden_neurons))\n",
    "    output_wts = np.random.uniform(size=(hidden_neurons,output_neurons))\n",
    "    output_bias = np.random.uniform(size=(1,output_neurons))\n",
    "    \n",
    "    epochs = 1000\n",
    "    learn = 0.3\n",
    "    \n",
    "    for epoch in range(epochs):\n",
    "        hidden_output,predicted_output = forward(inputs,hidden_wts,hidden_bias,output_wts,output_bias)\n",
    "        output_wts,output_bias,hidden_wts,hidden_bias = backward(learn,inputs,target,hidden_output,predicted_output,output_wts,output_bias,hidden_wts,hidden_bias)\n",
    "        if epoch == 999:\n",
    "            loss = np.mean(np.square(target - predicted_output))\n",
    "            print(f\"Epoch {epoch}: Loss = {loss}\")\n",
    "            \n",
    "    return output_wts,output_bias,hidden_wts,hidden_bias"
   ]
  },
  {
   "cell_type": "code",
   "execution_count": 20,
   "id": "8ec59afa",
   "metadata": {},
   "outputs": [
    {
     "name": "stdout",
     "output_type": "stream",
     "text": [
      "Epoch 999: Loss = 5.678827876190224e-05\n",
      "Predictions:  [0.00945255] [0.00636383] [0.99460773] [0.00822568]\n"
     ]
    }
   ],
   "source": [
    "test = np.array([[0,0],[0,1],[1,0],[1,1]])\n",
    "output_wts,output_bias,hidden_wts,hidden_bias = train(inputs,target)\n",
    "hidden,predictions = forward(test,hidden_wts,hidden_bias,output_wts,output_bias)\n",
    "print('Predictions: ',*predictions)"
   ]
  },
  {
   "cell_type": "code",
   "execution_count": 19,
   "id": "b70c36c6",
   "metadata": {},
   "outputs": [
    {
     "data": {
      "text/plain": [
       "array([[-0.00945878],\n",
       "       [-0.00635611],\n",
       "       [ 0.00538709],\n",
       "       [-0.00818077]])"
      ]
     },
     "execution_count": 19,
     "metadata": {},
     "output_type": "execute_result"
    }
   ],
   "source": [
    "difference = target - predictions\n",
    "difference"
   ]
  },
  {
   "cell_type": "code",
   "execution_count": 18,
   "id": "e30e1622-fd7c-4757-8901-9bae819673eb",
   "metadata": {},
   "outputs": [
    {
     "name": "stdout",
     "output_type": "stream",
     "text": [
      "Average Accuracy of predictions:  99.53478569316809\n"
     ]
    }
   ],
   "source": [
    "accuracy = 0\n",
    "for i in range(len(difference)):\n",
    "    accuracy += difference[i][0]\n",
    "\n",
    "accuracy = (1 + accuracy/len(difference))*100\n",
    "print(\"Average Accuracy of predictions: \",accuracy)"
   ]
  },
  {
   "cell_type": "code",
   "execution_count": null,
   "id": "d750c86f-0b04-4fc7-8e52-3dd0a1a495cf",
   "metadata": {},
   "outputs": [],
   "source": []
  }
 ],
 "metadata": {
  "kernelspec": {
   "display_name": "Python 3 (ipykernel)",
   "language": "python",
   "name": "python3"
  },
  "language_info": {
   "codemirror_mode": {
    "name": "ipython",
    "version": 3
   },
   "file_extension": ".py",
   "mimetype": "text/x-python",
   "name": "python",
   "nbconvert_exporter": "python",
   "pygments_lexer": "ipython3",
   "version": "3.9.7"
  }
 },
 "nbformat": 4,
 "nbformat_minor": 5
}
