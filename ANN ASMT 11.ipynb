{
 "cells": [
  {
   "cell_type": "markdown",
   "id": "b7a3db19",
   "metadata": {},
   "source": [
    "TensorFlow/Pytorch implementation of CNN"
   ]
  },
  {
   "cell_type": "code",
   "execution_count": 1,
   "id": "d0ff6b2d",
   "metadata": {},
   "outputs": [],
   "source": [
    "import matplotlib.pyplot as plt"
   ]
  },
  {
   "cell_type": "code",
   "execution_count": 2,
   "id": "f2425fa9",
   "metadata": {},
   "outputs": [
    {
     "name": "stderr",
     "output_type": "stream",
     "text": [
      "C:\\Users\\hpcnd\\anaconda3\\lib\\site-packages\\scipy\\__init__.py:146: UserWarning: A NumPy version >=1.16.5 and <1.23.0 is required for this version of SciPy (detected version 1.26.4\n",
      "  warnings.warn(f\"A NumPy version >={np_minversion} and <{np_maxversion}\"\n"
     ]
    },
    {
     "name": "stdout",
     "output_type": "stream",
     "text": [
      "Downloading data from https://storage.googleapis.com/tensorflow/tf-keras-datasets/mnist.npz\n",
      "\u001b[1m11490434/11490434\u001b[0m \u001b[32m━━━━━━━━━━━━━━━━━━━━\u001b[0m\u001b[37m\u001b[0m \u001b[1m2s\u001b[0m 0us/step\n",
      "X_train shape: (60000, 28, 28), X_test shape: (10000, 28, 28)\n"
     ]
    }
   ],
   "source": [
    "from tensorflow.keras.datasets import mnist \n",
    "(X_train, y_train), (X_test, y_test) = mnist.load_data() \n",
    "print(f'X_train shape: {X_train.shape}, X_test shape: {X_test.shape}') \n"
   ]
  },
  {
   "cell_type": "code",
   "execution_count": 3,
   "id": "b9d2df9d",
   "metadata": {},
   "outputs": [],
   "source": [
    "from tensorflow.keras.utils import to_categorical \n",
    "\n",
    "# convert image datatype from integers to floats \n",
    "X_train = X_train.astype('float32') \n",
    "X_test = X_test.astype('float32') \n",
    "\n",
    "# normalising piel values \n",
    "X_train = X_train/255.0\n",
    "X_test = X_test/255.0\n",
    "\n",
    "# reshape images to add channel dimension \n",
    "X_train = X_train.reshape(X_train.shape[0], X_train.shape[1], X_train.shape[2], 1) \n",
    "X_test = X_test.reshape(X_test.shape[0], X_test.shape[1], X_test.shape[2], 1) \n",
    "\n",
    "# One-hot encoding label \n",
    "y_train = to_categorical(y_train) \n",
    "y_test = to_categorical(y_test)\n"
   ]
  },
  {
   "cell_type": "code",
   "execution_count": 4,
   "id": "7adac902",
   "metadata": {},
   "outputs": [
    {
     "name": "stderr",
     "output_type": "stream",
     "text": [
      "C:\\Users\\hpcnd\\anaconda3\\lib\\site-packages\\keras\\src\\layers\\convolutional\\base_conv.py:107: UserWarning: Do not pass an `input_shape`/`input_dim` argument to a layer. When using Sequential models, prefer using an `Input(shape)` object as the first layer in the model instead.\n",
      "  super().__init__(activity_regularizer=activity_regularizer, **kwargs)\n"
     ]
    }
   ],
   "source": [
    "from tensorflow.keras.models import Sequential \n",
    "from tensorflow.keras.layers import Conv2D, MaxPooling2D, Dense, Flatten \n",
    "\n",
    "model = Sequential() \n",
    "\n",
    "# Layer 1 \n",
    "# Conv 1 \n",
    "model.add(Conv2D(filters=6, kernel_size=(5, 5), strides=1, activation = 'relu', input_shape = (28,28,1))) \n",
    "# Pooling 1 \n",
    "model.add(MaxPooling2D(pool_size=(2, 2), strides = 2)) \n",
    "\n",
    "# Layer 2 \n",
    "# Conv 2 \n",
    "model.add(Conv2D(filters=16, kernel_size=(5, 5), strides=1, activation='relu')) \n",
    "# Pooling 2 \n",
    "model.add(MaxPooling2D(pool_size = 2, strides = 2)) \n",
    "\n",
    "# Flatten \n",
    "model.add(Flatten()) \n",
    "\n",
    "# Layer 3 \n",
    "# Fully connected layer 1 \n",
    "model.add(Dense(units=120, activation='relu')) \n",
    "\n",
    "#Layer 4 \n",
    "#Fully connected layer 2 \n",
    "model.add(Dense(units=84, activation='relu')) \n",
    "\n",
    "#Layer 5 \n",
    "#Output Layer \n",
    "model.add(Dense(units=10, activation='softmax')) \n",
    "\n",
    "model.compile(optimizer='adam', loss='categorical_crossentropy', metrics=['accuracy'])\n"
   ]
  },
  {
   "cell_type": "code",
   "execution_count": 5,
   "id": "82566f5a",
   "metadata": {},
   "outputs": [
    {
     "name": "stdout",
     "output_type": "stream",
     "text": [
      "Epoch 1/20\n",
      "\u001b[1m117/117\u001b[0m \u001b[32m━━━━━━━━━━━━━━━━━━━━\u001b[0m\u001b[37m\u001b[0m \u001b[1m10s\u001b[0m 48ms/step - accuracy: 0.6268 - loss: 1.2803 - val_accuracy: 0.9392 - val_loss: 0.2051\n",
      "Epoch 2/20\n",
      "\u001b[1m117/117\u001b[0m \u001b[32m━━━━━━━━━━━━━━━━━━━━\u001b[0m\u001b[37m\u001b[0m \u001b[1m0s\u001b[0m 897us/step - accuracy: 0.9792 - loss: 0.1122 - val_accuracy: 0.8824 - val_loss: 0.3940\n",
      "Epoch 3/20\n"
     ]
    },
    {
     "name": "stderr",
     "output_type": "stream",
     "text": [
      "C:\\Users\\hpcnd\\anaconda3\\lib\\contextlib.py:137: UserWarning: Your input ran out of data; interrupting training. Make sure that your dataset or generator can generate at least `steps_per_epoch * epochs` batches. You may need to use the `.repeat()` function when building your dataset.\n",
      "  self.gen.throw(typ, value, traceback)\n"
     ]
    },
    {
     "name": "stdout",
     "output_type": "stream",
     "text": [
      "\u001b[1m117/117\u001b[0m \u001b[32m━━━━━━━━━━━━━━━━━━━━\u001b[0m\u001b[37m\u001b[0m \u001b[1m5s\u001b[0m 42ms/step - accuracy: 0.9394 - loss: 0.2056 - val_accuracy: 0.9643 - val_loss: 0.1192\n",
      "Epoch 4/20\n",
      "\u001b[1m117/117\u001b[0m \u001b[32m━━━━━━━━━━━━━━━━━━━━\u001b[0m\u001b[37m\u001b[0m \u001b[1m0s\u001b[0m 483us/step - accuracy: 0.9688 - loss: 0.0895 - val_accuracy: 0.9412 - val_loss: 0.2020\n",
      "Epoch 5/20\n",
      "\u001b[1m117/117\u001b[0m \u001b[32m━━━━━━━━━━━━━━━━━━━━\u001b[0m\u001b[37m\u001b[0m \u001b[1m5s\u001b[0m 42ms/step - accuracy: 0.9632 - loss: 0.1254 - val_accuracy: 0.9726 - val_loss: 0.0851\n",
      "Epoch 6/20\n",
      "\u001b[1m117/117\u001b[0m \u001b[32m━━━━━━━━━━━━━━━━━━━━\u001b[0m\u001b[37m\u001b[0m \u001b[1m0s\u001b[0m 486us/step - accuracy: 0.9896 - loss: 0.0698 - val_accuracy: 0.9632 - val_loss: 0.1423\n",
      "Epoch 7/20\n",
      "\u001b[1m117/117\u001b[0m \u001b[32m━━━━━━━━━━━━━━━━━━━━\u001b[0m\u001b[37m\u001b[0m \u001b[1m5s\u001b[0m 42ms/step - accuracy: 0.9703 - loss: 0.0971 - val_accuracy: 0.9770 - val_loss: 0.0737\n",
      "Epoch 8/20\n",
      "\u001b[1m117/117\u001b[0m \u001b[32m━━━━━━━━━━━━━━━━━━━━\u001b[0m\u001b[37m\u001b[0m \u001b[1m0s\u001b[0m 395us/step - accuracy: 0.9792 - loss: 0.0553 - val_accuracy: 0.9706 - val_loss: 0.1086\n",
      "Epoch 9/20\n",
      "\u001b[1m117/117\u001b[0m \u001b[32m━━━━━━━━━━━━━━━━━━━━\u001b[0m\u001b[37m\u001b[0m \u001b[1m5s\u001b[0m 43ms/step - accuracy: 0.9779 - loss: 0.0742 - val_accuracy: 0.9812 - val_loss: 0.0576\n",
      "Epoch 10/20\n",
      "\u001b[1m117/117\u001b[0m \u001b[32m━━━━━━━━━━━━━━━━━━━━\u001b[0m\u001b[37m\u001b[0m \u001b[1m0s\u001b[0m 407us/step - accuracy: 0.9792 - loss: 0.0589 - val_accuracy: 0.9743 - val_loss: 0.1089\n",
      "Epoch 11/20\n",
      "\u001b[1m117/117\u001b[0m \u001b[32m━━━━━━━━━━━━━━━━━━━━\u001b[0m\u001b[37m\u001b[0m \u001b[1m5s\u001b[0m 42ms/step - accuracy: 0.9792 - loss: 0.0674 - val_accuracy: 0.9829 - val_loss: 0.0496\n",
      "Epoch 12/20\n",
      "\u001b[1m117/117\u001b[0m \u001b[32m━━━━━━━━━━━━━━━━━━━━\u001b[0m\u001b[37m\u001b[0m \u001b[1m0s\u001b[0m 528us/step - accuracy: 1.0000 - loss: 0.0134 - val_accuracy: 0.9706 - val_loss: 0.0895\n",
      "Epoch 13/20\n",
      "\u001b[1m117/117\u001b[0m \u001b[32m━━━━━━━━━━━━━━━━━━━━\u001b[0m\u001b[37m\u001b[0m \u001b[1m5s\u001b[0m 42ms/step - accuracy: 0.9834 - loss: 0.0597 - val_accuracy: 0.9851 - val_loss: 0.0447\n",
      "Epoch 14/20\n",
      "\u001b[1m117/117\u001b[0m \u001b[32m━━━━━━━━━━━━━━━━━━━━\u001b[0m\u001b[37m\u001b[0m \u001b[1m0s\u001b[0m 521us/step - accuracy: 1.0000 - loss: 0.0279 - val_accuracy: 0.9816 - val_loss: 0.0657\n",
      "Epoch 15/20\n",
      "\u001b[1m117/117\u001b[0m \u001b[32m━━━━━━━━━━━━━━━━━━━━\u001b[0m\u001b[37m\u001b[0m \u001b[1m5s\u001b[0m 43ms/step - accuracy: 0.9848 - loss: 0.0482 - val_accuracy: 0.9870 - val_loss: 0.0381\n",
      "Epoch 16/20\n",
      "\u001b[1m117/117\u001b[0m \u001b[32m━━━━━━━━━━━━━━━━━━━━\u001b[0m\u001b[37m\u001b[0m \u001b[1m0s\u001b[0m 490us/step - accuracy: 0.9583 - loss: 0.1270 - val_accuracy: 0.9816 - val_loss: 0.0718\n",
      "Epoch 17/20\n",
      "\u001b[1m117/117\u001b[0m \u001b[32m━━━━━━━━━━━━━━━━━━━━\u001b[0m\u001b[37m\u001b[0m \u001b[1m5s\u001b[0m 42ms/step - accuracy: 0.9841 - loss: 0.0486 - val_accuracy: 0.9870 - val_loss: 0.0393\n",
      "Epoch 18/20\n",
      "\u001b[1m117/117\u001b[0m \u001b[32m━━━━━━━━━━━━━━━━━━━━\u001b[0m\u001b[37m\u001b[0m \u001b[1m0s\u001b[0m 458us/step - accuracy: 0.9792 - loss: 0.0875 - val_accuracy: 0.9853 - val_loss: 0.0605\n",
      "Epoch 19/20\n",
      "\u001b[1m117/117\u001b[0m \u001b[32m━━━━━━━━━━━━━━━━━━━━\u001b[0m\u001b[37m\u001b[0m \u001b[1m5s\u001b[0m 43ms/step - accuracy: 0.9873 - loss: 0.0402 - val_accuracy: 0.9872 - val_loss: 0.0379\n",
      "Epoch 20/20\n",
      "\u001b[1m117/117\u001b[0m \u001b[32m━━━━━━━━━━━━━━━━━━━━\u001b[0m\u001b[37m\u001b[0m \u001b[1m0s\u001b[0m 539us/step - accuracy: 0.9688 - loss: 0.1020 - val_accuracy: 0.9963 - val_loss: 0.0430\n",
      "\u001b[1m313/313\u001b[0m \u001b[32m━━━━━━━━━━━━━━━━━━━━\u001b[0m\u001b[37m\u001b[0m \u001b[1m2s\u001b[0m 6ms/step - accuracy: 0.9860 - loss: 0.0414\n",
      "98.850\n"
     ]
    }
   ],
   "source": [
    "epochs = 20\n",
    "batch_size = 512\n",
    "history = model.fit(X_train, y_train, epochs=epochs, batch_size=batch_size, \n",
    "                    steps_per_epoch=X_train.shape[0]//batch_size, \n",
    "                    validation_data=(X_test, y_test), \n",
    "                    validation_steps=X_test.shape[0]//batch_size, verbose = 1) \n",
    "\n",
    "_, acc = model.evaluate(X_test, y_test, verbose = 1) \n",
    "print('%.3f' % (acc * 100.0)) \n",
    "\n",
    "\n"
   ]
  },
  {
   "cell_type": "code",
   "execution_count": 6,
   "id": "36b476ec",
   "metadata": {},
   "outputs": [
    {
     "data": {
      "image/png": "[encoded data removed]",
      "text/plain": [
       "<Figure size 720x432 with 1 Axes>"
      ]
     },
     "metadata": {
      "needs_background": "light"
     },
     "output_type": "display_data"
    }
   ],
   "source": [
    "plt.figure(figsize=(10,6)) \n",
    "plt.plot(history.history['accuracy'], color = 'blue', label = 'train') \n",
    "plt.plot(history.history['val_accuracy'], color = 'red', label = 'val') \n",
    "plt.legend() \n",
    "plt.title('Accuracy') \n",
    "plt.show()"
   ]
  },
  {
   "cell_type": "code",
   "execution_count": null,
   "id": "d7abb7d0",
   "metadata": {},
   "outputs": [],
   "source": []
  }
 ],
 "metadata": {
  "kernelspec": {
   "display_name": "Python 3 (ipykernel)",
   "language": "python",
   "name": "python3"
  },
  "language_info": {
   "codemirror_mode": {
    "name": "ipython",
    "version": 3
   },
   "file_extension": ".py",
   "mimetype": "text/x-python",
   "name": "python",
   "nbconvert_exporter": "python",
   "pygments_lexer": "ipython3",
   "version": "3.9.7"
  }
 },
 "nbformat": 4,
 "nbformat_minor": 5
}
