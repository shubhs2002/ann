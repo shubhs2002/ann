{
 "cells": [
  {
   "cell_type": "markdown",
   "metadata": {},
   "source": [
    "Write a python Program for Bidirectional Associative Memory with two pairs of vectors."
   ]
  },
  {
   "cell_type": "code",
   "execution_count": 12,
   "metadata": {
    "id": "40Z39m0bK6Vk"
   },
   "outputs": [],
   "source": [
    "import numpy as np"
   ]
  },
  {
   "cell_type": "code",
   "execution_count": 13,
   "metadata": {
    "id": "rW5-HyaGLDMK"
   },
   "outputs": [],
   "source": [
    "# Input Patterns\n",
    "x1 = np.array([1,-1,1,-1,1,-1]).reshape(6,1)\n",
    "x2 = np.array([1,-1,1,1,-1,1]).reshape(6,1)\n",
    "x3 = np.array([-1,-1,-1,-1,-1,-1]).reshape(6,1)\n",
    "x4 = np.array([1,1,-1,1,1,-1]).reshape(6,1)\n",
    "\n",
    "# Output Patterns\n",
    "y1 = np.array([1,-1,1]).reshape(3,1)\n",
    "y2 = np.array([1,-1,1]).reshape(3,1)\n",
    "y3 = np.array([-1,-1,-1]).reshape(3,1)\n",
    "y4 = np.array([1,1,-1]).reshape(3,1)\n"
   ]
  },
  {
   "cell_type": "code",
   "execution_count": 14,
   "metadata": {
    "colab": {
     "base_uri": "https://localhost:8080/"
    },
    "id": "B3CKk_HaMqJb",
    "outputId": "49f4c062-57b4-429b-8cc7-acc3dd0de197"
   },
   "outputs": [
    {
     "name": "stdout",
     "output_type": "stream",
     "text": [
      "Weight1: \n",
      " [[ 1 -1  1 -1  1 -1]\n",
      " [-1  1 -1  1 -1  1]\n",
      " [ 1 -1  1 -1  1 -1]]\n",
      "Weight2: \n",
      " [[ 1 -1  1  1 -1  1]\n",
      " [-1  1 -1 -1  1 -1]\n",
      " [ 1 -1  1  1 -1  1]]\n",
      "Weight3: \n",
      " [[1 1 1 1 1 1]\n",
      " [1 1 1 1 1 1]\n",
      " [1 1 1 1 1 1]]\n",
      "Weight4: \n",
      " [[ 1  1 -1  1  1 -1]\n",
      " [ 1  1 -1  1  1 -1]\n",
      " [-1 -1  1 -1 -1  1]]\n"
     ]
    }
   ],
   "source": [
    "# Calculating weights\n",
    "w1 = y1@x1.T\n",
    "w2 = y2@x2.T\n",
    "w3 = y3@x3.T\n",
    "w4 = y4@x4.T\n",
    "\n",
    "print(\"Weight1: \\n\",w1)\n",
    "print(\"Weight2: \\n\",w2)\n",
    "print(\"Weight3: \\n\",w3)\n",
    "print(\"Weight4: \\n\",w4)"
   ]
  },
  {
   "cell_type": "code",
   "execution_count": 15,
   "metadata": {
    "id": "tsnvd8wOOgib"
   },
   "outputs": [],
   "source": [
    "def sigmoid(weight):\n",
    "    temp = []\n",
    "    for i in weight:\n",
    "        if i > 0:\n",
    "            temp.append(1)\n",
    "        else:\n",
    "            temp.append(-1)\n",
    "    return temp"
   ]
  },
  {
   "cell_type": "code",
   "execution_count": 16,
   "metadata": {
    "colab": {
     "base_uri": "https://localhost:8080/"
    },
    "id": "nelg7fZhQ6mK",
    "outputId": "65167818-ab93-44e5-b3a5-7f962fbbe180"
   },
   "outputs": [
    {
     "name": "stdout",
     "output_type": "stream",
     "text": [
      "[1, -1, 1]\n",
      "[1, -1, 1]\n",
      "[-1, -1, -1]\n",
      "[1, 1, -1]\n"
     ]
    }
   ],
   "source": [
    "# Output Predicted\n",
    "Ym1 = sigmoid(w1@x1)\n",
    "print(Ym1)\n",
    "Ym2 = sigmoid(w2@x2)\n",
    "print(Ym2)\n",
    "Ym3 = sigmoid(w3@x3)\n",
    "print(Ym3)\n",
    "Ym4 = sigmoid(w4@x4)\n",
    "print(Ym4)"
   ]
  },
  {
   "cell_type": "code",
   "execution_count": 17,
   "metadata": {
    "colab": {
     "base_uri": "https://localhost:8080/"
    },
    "id": "o5ntnBs6RTLJ",
    "outputId": "570b2042-2b3d-40b1-f468-61abb3f330c9"
   },
   "outputs": [
    {
     "name": "stdout",
     "output_type": "stream",
     "text": [
      "[1, -1, 1, -1, 1, -1]\n",
      "[1, -1, 1, 1, -1, 1]\n",
      "[-1, -1, -1, -1, -1, -1]\n",
      "[1, 1, -1, 1, 1, -1]\n"
     ]
    }
   ],
   "source": [
    "# Input from Predicted Output\n",
    "Xm1 = sigmoid(Ym1@w1)\n",
    "print(Xm1)\n",
    "Xm2 = sigmoid(Ym2@w2)\n",
    "print(Xm2)\n",
    "Xm3 = sigmoid(Ym3@w3)\n",
    "print(Xm3)\n",
    "Xm4 = sigmoid(Ym4@w4)\n",
    "print(Xm4)"
   ]
  },
  {
   "cell_type": "code",
   "execution_count": null,
   "metadata": {},
   "outputs": [],
   "source": []
  }
 ],
 "metadata": {
  "colab": {
   "provenance": []
  },
  "kernelspec": {
   "display_name": "Python 3 (ipykernel)",
   "language": "python",
   "name": "python3"
  },
  "language_info": {
   "codemirror_mode": {
    "name": "ipython",
    "version": 3
   },
   "file_extension": ".py",
   "mimetype": "text/x-python",
   "name": "python",
   "nbconvert_exporter": "python",
   "pygments_lexer": "ipython3",
   "version": "3.9.7"
  }
 },
 "nbformat": 4,
 "nbformat_minor": 4
}
