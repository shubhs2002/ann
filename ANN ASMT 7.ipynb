{
 "cells": [
  {
   "cell_type": "markdown",
   "id": "d7bf1151",
   "metadata": {},
   "source": [
    "Write a python program to show Back Propagation Network for XOR function with Binary Input and Output"
   ]
  },
  {
   "cell_type": "code",
   "execution_count": 1,
   "id": "6d01b83a",
   "metadata": {},
   "outputs": [],
   "source": [
    "import numpy as np"
   ]
  },
  {
   "cell_type": "code",
   "execution_count": 2,
   "id": "8fa5b6a4",
   "metadata": {},
   "outputs": [],
   "source": [
    "def sigmoid(x):\n",
    "    return 1/(1 + np.exp(-x))\n",
    "\n",
    "def sigmoid_derivative(x):\n",
    "    return x*(1-x)\n"
   ]
  },
  {
   "cell_type": "code",
   "execution_count": 3,
   "id": "23107987",
   "metadata": {},
   "outputs": [],
   "source": [
    "inputs = np.array([[0,0],[0,1],[1,0],[1,1]])\n",
    "target = np.array([[0],[1],[1],[0]]) #XOR\n",
    "\n",
    "epochs = 10000\n",
    "learn_rate = 0.1\n",
    "input_layer_neurons, hidden_layer_neurons, output_layer_neurons = 2,2,1\n",
    "\n",
    "hidden_weights = np.random.uniform(size=(input_layer_neurons,hidden_layer_neurons))\n",
    "hidden_bias = np.random.uniform(size=(1,hidden_layer_neurons))\n",
    "output_weights = np.random.uniform(size=(hidden_layer_neurons,output_layer_neurons))\n",
    "output_bias = np.random.uniform(size=(1,output_layer_neurons))\n"
   ]
  },
  {
   "cell_type": "code",
   "execution_count": 4,
   "id": "41b3240b",
   "metadata": {},
   "outputs": [],
   "source": [
    "# Training algorithm\n",
    "for epoch in range(epochs):\n",
    "    hidden_layer_sum = np.dot(inputs,hidden_weights)\n",
    "    hidden_layer_sum += hidden_bias\n",
    "    hidden_layer_output = sigmoid(hidden_layer_sum)\n",
    "    \n",
    "    output_layer_sum = np.dot(hidden_layer_output,output_weights)\n",
    "    output_layer_sum += output_bias\n",
    "    predicted_output = sigmoid(output_layer_sum)\n",
    "    \n",
    "    # Backpropagation\n",
    "    error = target - predicted_output\n",
    "    d_predicted_output = error * sigmoid_derivative(predicted_output)\n",
    "    \n",
    "    error_hidden = d_predicted_output.dot(output_weights.T)\n",
    "    d_hidden = error_hidden * sigmoid_derivative(hidden_layer_output)\n",
    "    \n",
    "    # Updating weights and biases\n",
    "    output_weights += hidden_layer_output.T.dot(d_predicted_output)*learn_rate\n",
    "    output_bias += np.sum(d_predicted_output,axis=0)*learn_rate\n",
    "    hidden_weights += inputs.T.dot(d_hidden)*learn_rate\n",
    "    hidden_bias += np.sum(d_hidden,axis=0)*learn_rate\n"
   ]
  },
  {
   "cell_type": "code",
   "execution_count": 5,
   "id": "d6fcb20e",
   "metadata": {},
   "outputs": [
    {
     "name": "stdout",
     "output_type": "stream",
     "text": [
      "Hidden Weights: \n",
      "[5.80486066 3.74951042] [5.81204269 3.75100503]\n",
      "Hidden Bias: \n",
      "[-2.43748032 -5.74689847]\n",
      "Output Weights: \n",
      "[7.57508234] [-8.22463831]\n",
      "Output_Bias: \n",
      "[-3.41383452]\n"
     ]
    }
   ],
   "source": [
    "print('Hidden Weights: ')\n",
    "print(*hidden_weights)\n",
    "print('Hidden Bias: ')\n",
    "print(*hidden_bias)\n",
    "print('Output Weights: ')\n",
    "print(*output_weights)\n",
    "print('Output_Bias: ')\n",
    "print(*output_bias)\n"
   ]
  },
  {
   "cell_type": "code",
   "execution_count": 6,
   "id": "695f949f",
   "metadata": {},
   "outputs": [
    {
     "name": "stdout",
     "output_type": "stream",
     "text": [
      "Predicted Output: \n",
      "[0.05566174] [0.94913903] [0.94911715] [0.05467211]\n"
     ]
    }
   ],
   "source": [
    "print(\"Predicted Output: \")\n",
    "print(*predicted_output)"
   ]
  },
  {
   "cell_type": "code",
   "execution_count": 7,
   "id": "3625a2ce",
   "metadata": {},
   "outputs": [
    {
     "data": {
      "text/plain": [
       "array([[-0.05566174],\n",
       "       [ 0.05086097],\n",
       "       [ 0.05088285],\n",
       "       [-0.05467211]])"
      ]
     },
     "execution_count": 7,
     "metadata": {},
     "output_type": "execute_result"
    }
   ],
   "source": [
    "difference = target - predicted_output\n",
    "difference"
   ]
  },
  {
   "cell_type": "code",
   "execution_count": 8,
   "id": "624de961-74f6-491b-952b-3f857c32d071",
   "metadata": {},
   "outputs": [
    {
     "name": "stdout",
     "output_type": "stream",
     "text": [
      "Average Accuracy of predictions:  99.78524917489104\n"
     ]
    }
   ],
   "source": [
    "accuracy = 0\n",
    "for i in range(len(difference)):\n",
    "    accuracy += difference[i][0]\n",
    "\n",
    "accuracy = (1 + accuracy/len(difference))*100\n",
    "print(\"Average Accuracy of predictions: \",accuracy)"
   ]
  },
  {
   "cell_type": "code",
   "execution_count": null,
   "id": "a3701e5c-5cec-4a2e-b4eb-4feeeb0deec6",
   "metadata": {},
   "outputs": [],
   "source": []
  }
 ],
 "metadata": {
  "kernelspec": {
   "display_name": "Python 3 (ipykernel)",
   "language": "python",
   "name": "python3"
  },
  "language_info": {
   "codemirror_mode": {
    "name": "ipython",
    "version": 3
   },
   "file_extension": ".py",
   "mimetype": "text/x-python",
   "name": "python",
   "nbconvert_exporter": "python",
   "pygments_lexer": "ipython3",
   "version": "3.9.7"
  }
 },
 "nbformat": 4,
 "nbformat_minor": 5
}
