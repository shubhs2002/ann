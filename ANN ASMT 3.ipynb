{
 "cells": [
  {
   "cell_type": "markdown",
   "id": "ced69366",
   "metadata": {},
   "source": [
    "Write a Python Program using Perceptron Neural Network to recognise even and odd numbers. \n",
    "Given numbers are in ASCII form 0 to 9"
   ]
  },
  {
   "cell_type": "code",
   "execution_count": 1,
   "id": "745314d2",
   "metadata": {
    "id": "745314d2"
   },
   "outputs": [],
   "source": [
    "import numpy as np"
   ]
  },
  {
   "cell_type": "code",
   "execution_count": 2,
   "id": "301dbdf1",
   "metadata": {
    "id": "301dbdf1"
   },
   "outputs": [],
   "source": [
    "def activation(output):\n",
    "    if output >= 0:\n",
    "        return 1\n",
    "    else:\n",
    "        return 0\n",
    "\n",
    "def predict(inputs,weights,bias):\n",
    "    predictions = []\n",
    "    for i in range(len(inputs)):\n",
    "        wsum = np.dot(inputs[i],weights) + bias\n",
    "        predictions.append(activation(wsum))\n",
    "    return predictions"
   ]
  },
  {
   "cell_type": "code",
   "execution_count": 3,
   "id": "d225bc85",
   "metadata": {
    "id": "d225bc85"
   },
   "outputs": [],
   "source": [
    "def training(inputs):\n",
    "    epochs = 1000\n",
    "    bias = 1\n",
    "    n = len(inputs)\n",
    "    binary = len(inputs[0])\n",
    "    expected_output = np.array([1,0,1,0,1,0,1,0,1,0])\n",
    "    weights = np.random.rand(binary)\n",
    "    wsum = 0\n",
    "    learn_rate = 0.1\n",
    "    for epoch in range(epochs):\n",
    "        for j in range(n):\n",
    "            # Calculate the weighted sum\n",
    "            wsum = np.dot(inputs[j],weights) + bias\n",
    "            #output = wsum + bias\n",
    "            predicted = activation(wsum)\n",
    "\n",
    "            # Calculate error\n",
    "            error = expected_output[j] - predicted\n",
    "            # Change weights and bias\n",
    "            weights = weights + learn_rate*(error)*inputs[j]\n",
    "            bias = bias + learn_rate*error\n",
    "    return weights,bias"
   ]
  },
  {
   "cell_type": "code",
   "execution_count": 4,
   "id": "5fd2d184",
   "metadata": {
    "id": "5fd2d184"
   },
   "outputs": [],
   "source": [
    "inputs = np.array([[0,0,1,1,0,0,0,0],\n",
    "                  [0,0,1,1,0,0,0,1],\n",
    "                  [0,0,1,1,0,0,1,0],\n",
    "                  [0,0,1,1,0,0,1,1],\n",
    "                  [0,0,1,1,0,1,0,0],\n",
    "                  [0,0,1,1,0,1,0,1],\n",
    "                  [0,0,1,1,0,1,1,0],\n",
    "                  [0,0,1,1,0,1,1,1],\n",
    "                  [0,0,1,1,1,0,0,0],\n",
    "                  [0,0,1,1,1,0,0,1]])"
   ]
  },
  {
   "cell_type": "code",
   "execution_count": 5,
   "id": "64c5462f",
   "metadata": {
    "id": "64c5462f",
    "outputId": "4e1e41bf-0caf-4116-8c4c-aeeaa815af2f"
   },
   "outputs": [
    {
     "name": "stdout",
     "output_type": "stream",
     "text": [
      "[ 0.30171671  0.10034319  0.01408119 -0.15161691  0.27561956  0.04551955\n",
      " -0.09998851 -0.68857586]\n",
      "0.40000000000000013\n"
     ]
    }
   ],
   "source": [
    "nweights,nbias = training(inputs)\n",
    "print(nweights)\n",
    "print(nbias)"
   ]
  },
  {
   "cell_type": "code",
   "execution_count": 6,
   "id": "83294ed2",
   "metadata": {
    "id": "83294ed2",
    "outputId": "38223bb2-a533-413b-ee75-cae499c0d5cf"
   },
   "outputs": [
    {
     "name": "stdout",
     "output_type": "stream",
     "text": [
      "[1, 0, 1, 0, 1, 0, 1, 0, 1, 0]\n"
     ]
    }
   ],
   "source": [
    "print(predict(inputs,nweights,nbias))"
   ]
  },
  {
   "cell_type": "code",
   "execution_count": 7,
   "id": "5aa000f8",
   "metadata": {
    "id": "5aa000f8",
    "outputId": "d8ad5da1-b053-4db1-bf79-279c8b230a09"
   },
   "outputs": [
    {
     "name": "stdout",
     "output_type": "stream",
     "text": [
      "-0.5261000954527254\n",
      "Odd\n"
     ]
    }
   ],
   "source": [
    "test = np.array([0,0,1,1,0,0,1,1])\n",
    "weighted_sum = 0\n",
    "predicted = 0\n",
    "\n",
    "weighted_sum = np.dot(test,nweights) + nbias\n",
    "#output = weighted_sum + nbias\n",
    "print(weighted_sum)\n",
    "predicted = activation(weighted_sum)\n",
    "if predicted == 1:\n",
    "    print(\"Even\")\n",
    "else:\n",
    "    print(\"Odd\")"
   ]
  },
  {
   "cell_type": "code",
   "execution_count": null,
   "id": "6d7ccc37",
   "metadata": {
    "id": "6d7ccc37"
   },
   "outputs": [],
   "source": []
  },
  {
   "cell_type": "code",
   "execution_count": null,
   "id": "f00291f3",
   "metadata": {},
   "outputs": [],
   "source": []
  }
 ],
 "metadata": {
  "colab": {
   "provenance": []
  },
  "kernelspec": {
   "display_name": "Python 3 (ipykernel)",
   "language": "python",
   "name": "python3"
  },
  "language_info": {
   "codemirror_mode": {
    "name": "ipython",
    "version": 3
   },
   "file_extension": ".py",
   "mimetype": "text/x-python",
   "name": "python",
   "nbconvert_exporter": "python",
   "pygments_lexer": "ipython3",
   "version": "3.9.7"
  }
 },
 "nbformat": 4,
 "nbformat_minor": 5
}
