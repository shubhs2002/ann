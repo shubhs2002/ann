{
 "cells": [
  {
   "cell_type": "markdown",
   "metadata": {},
   "source": [
    "With a suitable example demonstrate the perceptron learning law with its decision regions using python. Give the output in graphical form"
   ]
  },
  {
   "cell_type": "code",
   "execution_count": 2,
   "metadata": {
    "id": "YVE-ligzzCPt"
   },
   "outputs": [],
   "source": [
    "import numpy as np\n",
    "import matplotlib.pyplot as plt\n",
    "import pandas as pd"
   ]
  },
  {
   "cell_type": "code",
   "execution_count": 3,
   "metadata": {},
   "outputs": [
    {
     "name": "stdout",
     "output_type": "stream",
     "text": [
      "[0.35593797 0.64738618]\n"
     ]
    }
   ],
   "source": [
    "print(np.random.rand(2))"
   ]
  },
  {
   "cell_type": "code",
   "execution_count": 4,
   "metadata": {
    "id": "guAyiALAzh4h"
   },
   "outputs": [],
   "source": [
    "inputs = np.array([[1,1],[2,2],[4,4],[5,5],[2,3]])\n",
    "labels = np.array([0,0,1,1,0])"
   ]
  },
  {
   "cell_type": "code",
   "execution_count": 5,
   "metadata": {
    "id": "GuXURuV_0ofz"
   },
   "outputs": [],
   "source": [
    "def activation(output):\n",
    "    if output >= 0:\n",
    "        return 1\n",
    "    else:\n",
    "        return 0\n",
    "\n",
    "def predict(test,weights,bias):\n",
    "    predictions = []\n",
    "    wsum = np.dot(test,weights) + bias\n",
    "    predictions.append(activation(wsum))\n",
    "    return predictions"
   ]
  },
  {
   "cell_type": "code",
   "execution_count": 6,
   "metadata": {
    "id": "mwnogNFl1IYQ"
   },
   "outputs": [],
   "source": [
    "def training(inputs,labels):\n",
    "    epochs = 100\n",
    "    learn_rate = 0.1\n",
    "    bias = 1\n",
    "    weights = np.random.rand(2)\n",
    "    wsum = 0\n",
    "    for i in range(epochs):\n",
    "        for j in range(len(inputs)):\n",
    "            wsum = np.dot(inputs[j],weights) + bias\n",
    "\n",
    "        predicted = activation(wsum)\n",
    "        error = labels[j] - predicted\n",
    "\n",
    "        weights = weights + learn_rate * error * inputs[j]\n",
    "\n",
    "        bias = bias + learn_rate * error\n",
    "\n",
    "    return weights,bias"
   ]
  },
  {
   "cell_type": "code",
   "execution_count": 7,
   "metadata": {
    "colab": {
     "base_uri": "https://localhost:8080/"
    },
    "id": "R2BPnAcd2mjv",
    "outputId": "e00f248e-e2c1-4bef-8e8b-95e69702a5db"
   },
   "outputs": [
    {
     "name": "stdout",
     "output_type": "stream",
     "text": [
      "[-0.04612733 -0.33715233]\n",
      "0.7000000000000001\n"
     ]
    }
   ],
   "source": [
    "nweights,nbias = training(inputs,labels)\n",
    "print(nweights)\n",
    "print(nbias)"
   ]
  },
  {
   "cell_type": "code",
   "execution_count": 8,
   "metadata": {
    "colab": {
     "base_uri": "https://localhost:8080/"
    },
    "id": "BoDdFMyZ21xl",
    "outputId": "b63feba6-0143-41f1-bbe0-61b01004a6e4"
   },
   "outputs": [
    {
     "name": "stdout",
     "output_type": "stream",
     "text": [
      "[0]\n"
     ]
    }
   ],
   "source": [
    "test = [3,4]\n",
    "print(predict(test,nweights,nbias))"
   ]
  },
  {
   "cell_type": "code",
   "execution_count": 9,
   "metadata": {
    "id": "mWND0uYhW5-A"
   },
   "outputs": [],
   "source": [
    "df = pd.DataFrame(inputs,columns=['X','Y'])\n",
    "df['Labels'] = labels"
   ]
  },
  {
   "cell_type": "code",
   "execution_count": 10,
   "metadata": {
    "colab": {
     "base_uri": "https://localhost:8080/",
     "height": 435
    },
    "id": "aZIKpAAR6cGo",
    "outputId": "fce1f39b-144a-4f8c-8fba-bd97187406b5"
   },
   "outputs": [
    {
     "data": {
      "image/png": "[encoded data removed]",
      "text/plain": [
       "<Figure size 432x288 with 1 Axes>"
      ]
     },
     "metadata": {
      "needs_background": "light"
     },
     "output_type": "display_data"
    }
   ],
   "source": [
    "x = df['X']\n",
    "y=(-nweights[0]/nweights[1])*df['X']-(-nbias/-nweights[1])\n",
    "fig, ax = plt.subplots()\n",
    "ax.plot(x, y)\n",
    "ax.set_ylim(0, 10)\n",
    "#plt.plot(df['X'],df['Y'],marker='o')\n",
    "colors = np.where(df['Y'] > y, 'orange','green')\n",
    "plt.scatter(x=3,y=4,color='blue')\n",
    "plt.scatter(x=df['X'],y=df['Y'],c=colors)\n",
    "plt.grid(True)\n",
    "plt.show()"
   ]
  },
  {
   "cell_type": "code",
   "execution_count": null,
   "metadata": {
    "id": "Lwp8OWjR7DSo"
   },
   "outputs": [],
   "source": []
  },
  {
   "cell_type": "code",
   "execution_count": null,
   "metadata": {},
   "outputs": [],
   "source": []
  }
 ],
 "metadata": {
  "colab": {
   "provenance": []
  },
  "kernelspec": {
   "display_name": "Python 3 (ipykernel)",
   "language": "python",
   "name": "python3"
  },
  "language_info": {
   "codemirror_mode": {
    "name": "ipython",
    "version": 3
   },
   "file_extension": ".py",
   "mimetype": "text/x-python",
   "name": "python",
   "nbconvert_exporter": "python",
   "pygments_lexer": "ipython3",
   "version": "3.9.7"
  }
 },
 "nbformat": 4,
 "nbformat_minor": 1
}
